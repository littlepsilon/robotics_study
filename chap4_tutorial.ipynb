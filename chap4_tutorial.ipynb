{
 "cells": [
  {
   "cell_type": "code",
   "execution_count": 1,
   "metadata": {},
   "outputs": [],
   "source": [
    "import numpy as np\n",
    "from chapter4 import PrismaticJoint, RevoluteJoint, Robot"
   ]
  },
  {
   "cell_type": "code",
   "execution_count": 2,
   "metadata": {},
   "outputs": [],
   "source": [
    "joint1 = RevoluteJoint(name='joint1', position=np.array([1, 0, 0]), rotation_axis=np.array([0, 0, 1]))\n",
    "joint2 = RevoluteJoint(name='joint2', position=np.array([2, 0, 0]), rotation_axis=np.array([0, 0, 1]))\n",
    "joint3 = PrismaticJoint(name='joint3', position=np.array([3, 0, 0]),translation_axis=np.array([0, 0, 1]))\n",
    "joint4 = RevoluteJoint(name='joint4', position=np.array([3, 0, 0]), rotation_axis=np.array([0, 0, 1]))\n",
    "\n",
    "base_position = np.array([0, 0, 0])\n",
    "base_orientation = np.eye(3)\n",
    "end_effector_position = np.array([3, 0, 0])\n",
    "end_effector_orientation = np.eye(3)"
   ]
  },
  {
   "cell_type": "code",
   "execution_count": 3,
   "metadata": {},
   "outputs": [],
   "source": [
    "rb = Robot()\n",
    "\n",
    "rb.register_joint(joint=joint1)\n",
    "rb.register_joint(joint=joint2)\n",
    "rb.register_joint(joint=joint3)\n",
    "rb.register_joint(joint=joint4)\n",
    "\n",
    "rb.base_frame.update_orientation(base_position)\n",
    "rb.base_frame.update_orientation(base_orientation)\n",
    "rb.end_effector_frame.update_position(end_effector_position)\n",
    "rb.end_effector_frame.update_orientation(end_effector_orientation)"
   ]
  },
  {
   "cell_type": "code",
   "execution_count": 4,
   "metadata": {},
   "outputs": [
    {
     "name": "stdout",
     "output_type": "stream",
     "text": [
      "joint1\n",
      "S: [ 0.  0.  1. -0. -1. -0.]\n",
      "B: [ 0.  0.  1. -0.  2. -0.]\n",
      "\n",
      "joint2\n",
      "S: [ 0.  0.  1. -0. -2. -0.]\n",
      "B: [ 0.  0.  1. -0.  1. -0.]\n",
      "\n",
      "joint3\n",
      "S: [0. 0. 0. 0. 0. 1.]\n",
      "B: [0. 0. 0. 0. 0. 1.]\n",
      "\n",
      "joint4\n",
      "S: [ 0.  0.  1. -0. -3. -0.]\n",
      "B: [ 0.  0.  1. -0. -0. -0.]\n",
      "\n"
     ]
    }
   ],
   "source": [
    "s_list = []\n",
    "b_list = []\n",
    "for key in rb.joints:\n",
    "    screwS = rb.compute_screw_axis(key)\n",
    "    screwB = rb.compute_screw_axis(key, False)\n",
    "    print(key)\n",
    "    print(f'S: {np.round(screwS,2)}')\n",
    "    print(f'B: {np.round(screwB,2)}')\n",
    "    print()"
   ]
  },
  {
   "cell_type": "code",
   "execution_count": 5,
   "metadata": {},
   "outputs": [
    {
     "name": "stdout",
     "output_type": "stream",
     "text": [
      "[[ 0.71  0.71  0.    2.  ]\n",
      " [-0.71  0.71  0.   -1.  ]\n",
      " [ 0.    0.    1.    2.  ]\n",
      " [ 0.    0.    0.    1.  ]]\n"
     ]
    }
   ],
   "source": [
    "thetas = {'joint1':-np.pi/2,\n",
    "          'joint2': np.pi/2,\n",
    "          'joint3': 2,\n",
    "          'joint4':-np.pi/4}\n",
    "\n",
    "T = rb.compute_total_transform(thetas)\n",
    "print(np.round(T, 2))"
   ]
  },
  {
   "cell_type": "code",
   "execution_count": null,
   "metadata": {},
   "outputs": [],
   "source": []
  }
 ],
 "metadata": {
  "kernelspec": {
   "display_name": "Python 3",
   "language": "python",
   "name": "python3"
  },
  "language_info": {
   "codemirror_mode": {
    "name": "ipython",
    "version": 3
   },
   "file_extension": ".py",
   "mimetype": "text/x-python",
   "name": "python",
   "nbconvert_exporter": "python",
   "pygments_lexer": "ipython3",
   "version": "3.10.13"
  },
  "orig_nbformat": 4
 },
 "nbformat": 4,
 "nbformat_minor": 2
}
